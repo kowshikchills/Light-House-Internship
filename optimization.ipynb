{
 "cells": [
  {
   "cell_type": "code",
   "execution_count": 22,
   "metadata": {
    "collapsed": false
   },
   "outputs": [
    {
     "name": "stdout",
     "output_type": "stream",
     "text": [
      "Results\n",
      "{'intx[1]': 10775.0, 'intx[3]': 10432.0, 'intx[2]': 1.0, 'intx[4]': 1.0}\n",
      "3.75891304227 seconds\n"
     ]
    }
   ],
   "source": [
    "import time\n",
    "start_time = time.clock()\n",
    "import sys\n",
    "sys.path.append(\"../\")\n",
    "from apm import *\n",
    "server = 'http://byu.apmonitor.com'\n",
    "app = 'mixed_integer'\n",
    "apm(server,app,'clear all')\n",
    "apm_load(server,app,'hs71.apm')\n",
    "apm_option(server,app,'nlc.solver',1)\n",
    "apm(server,app,'solve')\n",
    "print 'Results'\n",
    "y = apm_sol(server,app)\n",
    "print y\n",
    "print time.clock() - start_time, \"seconds\""
   ]
  },
  {
   "cell_type": "code",
   "execution_count": 24,
   "metadata": {
    "collapsed": false
   },
   "outputs": [
    {
     "data": {
      "text/plain": [
       "538750"
      ]
     },
     "execution_count": 24,
     "metadata": {},
     "output_type": "execute_result"
    }
   ],
   "source": [
    "50*10775"
   ]
  },
  {
   "cell_type": "code",
   "execution_count": 23,
   "metadata": {
    "collapsed": false
   },
   "outputs": [
    {
     "data": {
      "text/plain": [
       "17250.0"
      ]
     },
     "execution_count": 23,
     "metadata": {},
     "output_type": "execute_result"
    }
   ],
   "source": [
    "50*y['intx[1]'] + 100*y['intx[2]'] - 50*y['intx[3]'] + 0*y['intx[4]']"
   ]
  },
  {
   "cell_type": "code",
   "execution_count": 19,
   "metadata": {
    "collapsed": false
   },
   "outputs": [
    {
     "data": {
      "text/plain": [
       "21209.0"
      ]
     },
     "execution_count": 19,
     "metadata": {},
     "output_type": "execute_result"
    }
   ],
   "source": [
    "y['intx[1]'] + y['intx[2]'] + y['intx[3]'] + y['intx[4]']"
   ]
  },
  {
   "cell_type": "code",
   "execution_count": 13,
   "metadata": {
    "collapsed": false,
    "scrolled": true
   },
   "outputs": [
    {
     "name": "stdout",
     "output_type": "stream",
     "text": [
      "no of times played\n",
      "3\n",
      "1\n",
      "8\n",
      "8\n",
      "2\n",
      "6\n",
      "impressions\n",
      "lag 925.05\n",
      "1000\n",
      "lag 396.7\n",
      "400\n",
      "lag -759.0\n",
      "20000\n",
      "lag 184.52\n",
      "4000\n",
      "lag 2216.43\n",
      "3000\n",
      "lag 648.21\n",
      "1000\n"
     ]
    }
   ],
   "source": [
    "Reached = []\n",
    "print \"no of times played\"\n",
    "for i in range(6):\n",
    "    print list(matrix[i]).count(1)\n",
    "print \"impressions\"\n",
    "for i in range(6):\n",
    "    Reached.append(sum(np.array(F.values())*np.array(matrix[i])))\n",
    "for i in range(6):\n",
    "    print 'lag', - Reached[i] + T.values()[i]\n",
    "    print T.values()[i]"
   ]
  },
  {
   "cell_type": "code",
   "execution_count": 12,
   "metadata": {
    "collapsed": false
   },
   "outputs": [],
   "source": [
    "matrix = np.zeros((6,24))\n",
    "for i in range(1,7):\n",
    "    for j in range(1,25):\n",
    "        matrix[i-1][j-1] = y['intx[K][L]'.replace('K',str(i)).replace('L',str(j))]"
   ]
  },
  {
   "cell_type": "code",
   "execution_count": 14,
   "metadata": {
    "collapsed": true
   },
   "outputs": [],
   "source": [
    "COLmatrix = np.zeros((6,24))\n",
    "for i in range(1,7):\n",
    "    for j in range(1,25):\n",
    "        COLmatrix[i-1][j-1] = y['intx[K][L]'.replace('K',str(i)).replace('L',str(j))]*i*i"
   ]
  },
  {
   "cell_type": "code",
   "execution_count": 6,
   "metadata": {
    "collapsed": false
   },
   "outputs": [],
   "source": [
    "import matplotlib.pyplot as plt\n",
    "import numpy as np\n",
    "G = matrix\n",
    "plt.imshow(G,interpolation='nearest')\n",
    "y_values = [\"promo 1\", \"promo 2\", \"promo 3\", \"promo 4\", \"promo 5\", \"promo 6\"]\n",
    "y_axis = np.arange(0, 7, 1)\n",
    "plt.axes().set_aspect('equal')\n",
    "plt.xticks(np.arange(0, 24, 1.0))\n",
    "plt.yticks(y_axis, y_values)\n",
    "plt.show()"
   ]
  },
  {
   "cell_type": "code",
   "execution_count": 10,
   "metadata": {
    "collapsed": false
   },
   "outputs": [
    {
     "name": "stdout",
     "output_type": "stream",
     "text": [
      "Optional data file hs71_5123.csv does not exist\n"
     ]
    }
   ],
   "source": [
    "import sys\n",
    "sys.path.append(\"../\")\n",
    "\n",
    "# Import APM package\n",
    "from apm import *\n",
    "\n",
    "# Solve optimization problem\n",
    "y = apm_solve('hs71',3)"
   ]
  },
  {
   "cell_type": "code",
   "execution_count": 11,
   "metadata": {
    "collapsed": false
   },
   "outputs": [
    {
     "data": {
      "text/plain": [
       "{'intx[1][10]': 0.0,\n",
       " 'intx[1][11]': 0.0,\n",
       " 'intx[1][12]': 0.0,\n",
       " 'intx[1][13]': 0.0,\n",
       " 'intx[1][14]': 0.0,\n",
       " 'intx[1][15]': 0.0,\n",
       " 'intx[1][16]': 0.0,\n",
       " 'intx[1][17]': 0.0,\n",
       " 'intx[1][18]': 0.0,\n",
       " 'intx[1][19]': 0.0,\n",
       " 'intx[1][1]': 0.0,\n",
       " 'intx[1][20]': 0.0,\n",
       " 'intx[1][21]': 0.0,\n",
       " 'intx[1][22]': 0.0,\n",
       " 'intx[1][23]': 0.0,\n",
       " 'intx[1][24]': 0.0,\n",
       " 'intx[1][2]': 1.0,\n",
       " 'intx[1][3]': 1.0,\n",
       " 'intx[1][4]': 0.0,\n",
       " 'intx[1][5]': 0.0,\n",
       " 'intx[1][6]': 0.0,\n",
       " 'intx[1][7]': 1.0,\n",
       " 'intx[1][8]': 0.0,\n",
       " 'intx[1][9]': 0.0,\n",
       " 'intx[2][10]': 0.0,\n",
       " 'intx[2][11]': 0.0,\n",
       " 'intx[2][12]': 0.0,\n",
       " 'intx[2][13]': 0.0,\n",
       " 'intx[2][14]': 0.0,\n",
       " 'intx[2][15]': 0.0,\n",
       " 'intx[2][16]': 0.0,\n",
       " 'intx[2][17]': 0.0,\n",
       " 'intx[2][18]': 0.0,\n",
       " 'intx[2][19]': 0.0,\n",
       " 'intx[2][1]': 0.0,\n",
       " 'intx[2][20]': 0.0,\n",
       " 'intx[2][21]': 0.0,\n",
       " 'intx[2][22]': 0.0,\n",
       " 'intx[2][23]': 0.0,\n",
       " 'intx[2][24]': 0.0,\n",
       " 'intx[2][2]': 1.0,\n",
       " 'intx[2][3]': 0.0,\n",
       " 'intx[2][4]': 0.0,\n",
       " 'intx[2][5]': 0.0,\n",
       " 'intx[2][6]': 0.0,\n",
       " 'intx[2][7]': 0.0,\n",
       " 'intx[2][8]': 0.0,\n",
       " 'intx[2][9]': 0.0,\n",
       " 'intx[3][10]': 1.0,\n",
       " 'intx[3][11]': 1.0,\n",
       " 'intx[3][12]': 1.0,\n",
       " 'intx[3][13]': 1.0,\n",
       " 'intx[3][14]': 0.0,\n",
       " 'intx[3][15]': 0.0,\n",
       " 'intx[3][16]': 0.0,\n",
       " 'intx[3][17]': 0.0,\n",
       " 'intx[3][18]': 0.0,\n",
       " 'intx[3][19]': 0.0,\n",
       " 'intx[3][1]': 0.0,\n",
       " 'intx[3][20]': 1.0,\n",
       " 'intx[3][21]': 1.0,\n",
       " 'intx[3][22]': 0.0,\n",
       " 'intx[3][23]': 1.0,\n",
       " 'intx[3][24]': 0.0,\n",
       " 'intx[3][2]': 0.0,\n",
       " 'intx[3][3]': 0.0,\n",
       " 'intx[3][4]': 0.0,\n",
       " 'intx[3][5]': 0.0,\n",
       " 'intx[3][6]': 0.0,\n",
       " 'intx[3][7]': 0.0,\n",
       " 'intx[3][8]': 0.0,\n",
       " 'intx[3][9]': 1.0,\n",
       " 'intx[4][10]': 0.0,\n",
       " 'intx[4][11]': 0.0,\n",
       " 'intx[4][12]': 0.0,\n",
       " 'intx[4][13]': 0.0,\n",
       " 'intx[4][14]': 1.0,\n",
       " 'intx[4][15]': 0.0,\n",
       " 'intx[4][16]': 1.0,\n",
       " 'intx[4][17]': 0.0,\n",
       " 'intx[4][18]': 1.0,\n",
       " 'intx[4][19]': 0.0,\n",
       " 'intx[4][1]': 1.0,\n",
       " 'intx[4][20]': 0.0,\n",
       " 'intx[4][21]': 0.0,\n",
       " 'intx[4][22]': 0.0,\n",
       " 'intx[4][23]': 0.0,\n",
       " 'intx[4][24]': 0.0,\n",
       " 'intx[4][2]': 0.0,\n",
       " 'intx[4][3]': 0.0,\n",
       " 'intx[4][4]': 1.0,\n",
       " 'intx[4][5]': 1.0,\n",
       " 'intx[4][6]': 1.0,\n",
       " 'intx[4][7]': 0.0,\n",
       " 'intx[4][8]': 1.0,\n",
       " 'intx[4][9]': 0.0,\n",
       " 'intx[5][10]': 0.0,\n",
       " 'intx[5][11]': 0.0,\n",
       " 'intx[5][12]': 0.0,\n",
       " 'intx[5][13]': 0.0,\n",
       " 'intx[5][14]': 0.0,\n",
       " 'intx[5][15]': 0.0,\n",
       " 'intx[5][16]': 0.0,\n",
       " 'intx[5][17]': 1.0,\n",
       " 'intx[5][18]': 0.0,\n",
       " 'intx[5][19]': 0.0,\n",
       " 'intx[5][1]': 0.0,\n",
       " 'intx[5][20]': 0.0,\n",
       " 'intx[5][21]': 0.0,\n",
       " 'intx[5][22]': 0.0,\n",
       " 'intx[5][23]': 0.0,\n",
       " 'intx[5][24]': 0.0,\n",
       " 'intx[5][2]': 0.0,\n",
       " 'intx[5][3]': 0.0,\n",
       " 'intx[5][4]': 0.0,\n",
       " 'intx[5][5]': 0.0,\n",
       " 'intx[5][6]': 0.0,\n",
       " 'intx[5][7]': 1.0,\n",
       " 'intx[5][8]': 0.0,\n",
       " 'intx[5][9]': 0.0,\n",
       " 'intx[6][10]': 0.0,\n",
       " 'intx[6][11]': 0.0,\n",
       " 'intx[6][12]': 0.0,\n",
       " 'intx[6][13]': 0.0,\n",
       " 'intx[6][14]': 0.0,\n",
       " 'intx[6][15]': 0.0,\n",
       " 'intx[6][16]': 0.0,\n",
       " 'intx[6][17]': 0.0,\n",
       " 'intx[6][18]': 0.0,\n",
       " 'intx[6][19]': 0.0,\n",
       " 'intx[6][1]': 1.0,\n",
       " 'intx[6][20]': 0.0,\n",
       " 'intx[6][21]': 0.0,\n",
       " 'intx[6][22]': 0.0,\n",
       " 'intx[6][23]': 0.0,\n",
       " 'intx[6][24]': 1.0,\n",
       " 'intx[6][2]': 0.0,\n",
       " 'intx[6][3]': 1.0,\n",
       " 'intx[6][4]': 1.0,\n",
       " 'intx[6][5]': 1.0,\n",
       " 'intx[6][6]': 1.0,\n",
       " 'intx[6][7]': 0.0,\n",
       " 'intx[6][8]': 0.0,\n",
       " 'intx[6][9]': 0.0,\n",
       " 'slk_1': 1.0,\n",
       " 'slk_10': 1.0,\n",
       " 'slk_100': 0.0,\n",
       " 'slk_101': 0.0,\n",
       " 'slk_102': 1.0,\n",
       " 'slk_103': 0.0,\n",
       " 'slk_104': 0.0,\n",
       " 'slk_105': 1.0,\n",
       " 'slk_106': 0.0,\n",
       " 'slk_107': 0.0,\n",
       " 'slk_108': 1.0,\n",
       " 'slk_109': 0.0,\n",
       " 'slk_11': 1.0,\n",
       " 'slk_110': 0.0,\n",
       " 'slk_111': 1.0,\n",
       " 'slk_112': 0.0,\n",
       " 'slk_113': 0.0,\n",
       " 'slk_114': 0.0,\n",
       " 'slk_115': 0.0,\n",
       " 'slk_116': 0.0,\n",
       " 'slk_117': 0.0,\n",
       " 'slk_118': 0.0,\n",
       " 'slk_119': 0.0,\n",
       " 'slk_12': 1.0,\n",
       " 'slk_120': 0.0,\n",
       " 'slk_121': 0.0,\n",
       " 'slk_122': 0.0,\n",
       " 'slk_123': 0.0,\n",
       " 'slk_124': 0.0,\n",
       " 'slk_125': 0.0,\n",
       " 'slk_126': 0.0,\n",
       " 'slk_127': 0.0,\n",
       " 'slk_128': 0.0,\n",
       " 'slk_129': 0.0,\n",
       " 'slk_13': 1.0,\n",
       " 'slk_130': 0.0,\n",
       " 'slk_131': 0.0,\n",
       " 'slk_132': 1.0,\n",
       " 'slk_133': 0.0,\n",
       " 'slk_134': 0.0,\n",
       " 'slk_135': 1.0,\n",
       " 'slk_136': 0.0,\n",
       " 'slk_137': 0.0,\n",
       " 'slk_138': 0.0,\n",
       " 'slk_139': 0.0,\n",
       " 'slk_14': 1.0,\n",
       " 'slk_140': 0.0,\n",
       " 'slk_141': 1.0,\n",
       " 'slk_142': 0.0,\n",
       " 'slk_143': 0.0,\n",
       " 'slk_144': 0.0,\n",
       " 'slk_145': 1.0,\n",
       " 'slk_146': 1.0,\n",
       " 'slk_147': 1.0,\n",
       " 'slk_148': 1.0,\n",
       " 'slk_149': 1.0,\n",
       " 'slk_15': 1.0,\n",
       " 'slk_150': 1.0,\n",
       " 'slk_151': 0.0,\n",
       " 'slk_152': 2.0,\n",
       " 'slk_153': 2.0,\n",
       " 'slk_154': 2.0,\n",
       " 'slk_155': 2.0,\n",
       " 'slk_156': 2.0,\n",
       " 'slk_157': 2.0,\n",
       " 'slk_158': 2.0,\n",
       " 'slk_159': 3.0,\n",
       " 'slk_16': 1.0,\n",
       " 'slk_160': 2.0,\n",
       " 'slk_161': 1.0,\n",
       " 'slk_162': 2.0,\n",
       " 'slk_163': 3.0,\n",
       " 'slk_164': 2.0,\n",
       " 'slk_165': 2.0,\n",
       " 'slk_166': 3.0,\n",
       " 'slk_167': 2.0,\n",
       " 'slk_168': 2.0,\n",
       " 'slk_169': 2.0,\n",
       " 'slk_17': 1.0,\n",
       " 'slk_170': 2.0,\n",
       " 'slk_171': 2.0,\n",
       " 'slk_172': 0.0,\n",
       " 'slk_173': 3.0,\n",
       " 'slk_174': 0.0,\n",
       " 'slk_18': 1.0,\n",
       " 'slk_181': 1025.05,\n",
       " 'slk_182': 436.7,\n",
       " 'slk_183': 1241.0,\n",
       " 'slk_184': 584.52,\n",
       " 'slk_185': 2516.43,\n",
       " 'slk_186': 748.21,\n",
       " 'slk_19': 0.0,\n",
       " 'slk_2': 1.0,\n",
       " 'slk_20': 1.0,\n",
       " 'slk_21': 1.0,\n",
       " 'slk_22': 1.0,\n",
       " 'slk_23': 1.0,\n",
       " 'slk_24': 1.0,\n",
       " 'slk_25': 1.0,\n",
       " 'slk_26': 1.0,\n",
       " 'slk_27': 0.0,\n",
       " 'slk_28': 1.0,\n",
       " 'slk_29': 1.0,\n",
       " 'slk_3': 1.0,\n",
       " 'slk_30': 0.0,\n",
       " 'slk_31': 1.0,\n",
       " 'slk_32': 1.0,\n",
       " 'slk_33': 0.0,\n",
       " 'slk_34': 1.0,\n",
       " 'slk_35': 1.0,\n",
       " 'slk_36': 0.0,\n",
       " 'slk_37': 1.0,\n",
       " 'slk_38': 1.0,\n",
       " 'slk_39': 0.0,\n",
       " 'slk_4': 0.0,\n",
       " 'slk_40': 1.0,\n",
       " 'slk_41': 1.0,\n",
       " 'slk_42': 1.0,\n",
       " 'slk_43': 1.0,\n",
       " 'slk_44': 1.0,\n",
       " 'slk_45': 1.0,\n",
       " 'slk_46': 1.0,\n",
       " 'slk_47': 1.0,\n",
       " 'slk_48': 1.0,\n",
       " 'slk_49': 1.0,\n",
       " 'slk_5': 0.0,\n",
       " 'slk_50': 1.0,\n",
       " 'slk_51': 1.0,\n",
       " 'slk_52': 1.0,\n",
       " 'slk_53': 1.0,\n",
       " 'slk_54': 1.0,\n",
       " 'slk_55': 1.0,\n",
       " 'slk_56': 1.0,\n",
       " 'slk_57': 1.0,\n",
       " 'slk_58': 1.0,\n",
       " 'slk_59': 1.0,\n",
       " 'slk_6': 1.0,\n",
       " 'slk_60': 0.0,\n",
       " 'slk_61': 1.0,\n",
       " 'slk_62': 1.0,\n",
       " 'slk_63': 0.0,\n",
       " 'slk_64': 1.0,\n",
       " 'slk_65': 1.0,\n",
       " 'slk_66': 1.0,\n",
       " 'slk_67': 1.0,\n",
       " 'slk_68': 1.0,\n",
       " 'slk_69': 0.0,\n",
       " 'slk_7': 0.0,\n",
       " 'slk_70': 1.0,\n",
       " 'slk_71': 1.0,\n",
       " 'slk_72': 1.0,\n",
       " 'slk_73': 0.0,\n",
       " 'slk_74': 0.0,\n",
       " 'slk_75': 0.0,\n",
       " 'slk_76': 1.0,\n",
       " 'slk_77': 1.0,\n",
       " 'slk_78': 0.0,\n",
       " 'slk_79': 1.0,\n",
       " 'slk_8': 1.0,\n",
       " 'slk_80': 0.0,\n",
       " 'slk_81': 0.0,\n",
       " 'slk_82': 0.0,\n",
       " 'slk_83': 0.0,\n",
       " 'slk_84': 0.0,\n",
       " 'slk_85': 0.0,\n",
       " 'slk_86': 0.0,\n",
       " 'slk_87': 0.0,\n",
       " 'slk_88': 0.0,\n",
       " 'slk_89': 0.0,\n",
       " 'slk_9': 1.0,\n",
       " 'slk_90': 0.0,\n",
       " 'slk_91': 1.0,\n",
       " 'slk_92': 0.0,\n",
       " 'slk_93': 0.0,\n",
       " 'slk_94': 0.0,\n",
       " 'slk_95': 0.0,\n",
       " 'slk_96': 0.0,\n",
       " 'slk_97': 0.0,\n",
       " 'slk_98': 0.0,\n",
       " 'slk_99': 1.0}"
      ]
     },
     "execution_count": 11,
     "metadata": {},
     "output_type": "execute_result"
    }
   ],
   "source": [
    "y"
   ]
  },
  {
   "cell_type": "code",
   "execution_count": null,
   "metadata": {
    "collapsed": true
   },
   "outputs": [],
   "source": []
  },
  {
   "cell_type": "code",
   "execution_count": null,
   "metadata": {
    "collapsed": true
   },
   "outputs": [],
   "source": []
  }
 ],
 "metadata": {
  "kernelspec": {
   "display_name": "Python 2",
   "language": "python",
   "name": "python2"
  },
  "language_info": {
   "codemirror_mode": {
    "name": "ipython",
    "version": 2
   },
   "file_extension": ".py",
   "mimetype": "text/x-python",
   "name": "python",
   "nbconvert_exporter": "python",
   "pygments_lexer": "ipython2",
   "version": "2.7.10"
  }
 },
 "nbformat": 4,
 "nbformat_minor": 0
}
